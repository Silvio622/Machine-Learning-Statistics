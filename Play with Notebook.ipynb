{
 "cells": [
  {
   "cell_type": "markdown",
   "metadata": {},
   "source": [
    "# Play with Notebook\n",
    "***"
   ]
  },
  {
   "cell_type": "code",
   "execution_count": 3,
   "metadata": {},
   "outputs": [],
   "source": [
    "# variables\n",
    "a = 2\n",
    "b = 4"
   ]
  },
  {
   "cell_type": "code",
   "execution_count": 4,
   "metadata": {},
   "outputs": [],
   "source": [
    "c = a + b"
   ]
  },
  {
   "cell_type": "code",
   "execution_count": 5,
   "metadata": {},
   "outputs": [
    {
     "data": {
      "text/plain": [
       "6"
      ]
     },
     "execution_count": 5,
     "metadata": {},
     "output_type": "execute_result"
    }
   ],
   "source": [
    "c"
   ]
  },
  {
   "cell_type": "code",
   "execution_count": 6,
   "metadata": {},
   "outputs": [
    {
     "name": "stdout",
     "output_type": "stream",
     "text": [
      "6\n"
     ]
    }
   ],
   "source": [
    "print(c)"
   ]
  },
  {
   "cell_type": "code",
   "execution_count": null,
   "metadata": {},
   "outputs": [],
   "source": []
  },
  {
   "cell_type": "markdown",
   "metadata": {},
   "source": [
    "## Python range function"
   ]
  },
  {
   "cell_type": "code",
   "execution_count": 3,
   "metadata": {},
   "outputs": [
    {
     "data": {
      "text/plain": [
       "[0, 1, 2, 3, 4, 5, 6, 7, 8, 9]"
      ]
     },
     "execution_count": 3,
     "metadata": {},
     "output_type": "execute_result"
    }
   ],
   "source": [
    "list(range(0,10))"
   ]
  },
  {
   "cell_type": "markdown",
   "metadata": {},
   "source": [
    "## Numpy"
   ]
  },
  {
   "cell_type": "code",
   "execution_count": 16,
   "metadata": {},
   "outputs": [],
   "source": [
    "# Effiecient numerical array\n",
    "import numpy as np\n",
    "\n",
    "# Plot with matplotlib library\n",
    "import matplotlib.pyplot as plt"
   ]
  },
  {
   "cell_type": "code",
   "execution_count": 50,
   "metadata": {},
   "outputs": [],
   "source": [
    "# using numpy arrange function to create a floating number list\n",
    "x = np.arange(0.0,10.0)\n",
    "x1 = np.linspace(0,6,360)"
   ]
  },
  {
   "cell_type": "code",
   "execution_count": 51,
   "metadata": {},
   "outputs": [
    {
     "name": "stdout",
     "output_type": "stream",
     "text": [
      "[0. 1. 2. 3. 4. 5. 6. 7. 8. 9.]\n"
     ]
    }
   ],
   "source": [
    "print(x)"
   ]
  },
  {
   "cell_type": "code",
   "execution_count": 52,
   "metadata": {},
   "outputs": [
    {
     "name": "stdout",
     "output_type": "stream",
     "text": [
      "[0.         0.01671309 0.03342618 0.05013928 0.06685237 0.08356546\n",
      " 0.10027855 0.11699164 0.13370474 0.15041783 0.16713092 0.18384401\n",
      " 0.2005571  0.21727019 0.23398329 0.25069638 0.26740947 0.28412256\n",
      " 0.30083565 0.31754875 0.33426184 0.35097493 0.36768802 0.38440111\n",
      " 0.40111421 0.4178273  0.43454039 0.45125348 0.46796657 0.48467967\n",
      " 0.50139276 0.51810585 0.53481894 0.55153203 0.56824513 0.58495822\n",
      " 0.60167131 0.6183844  0.63509749 0.65181058 0.66852368 0.68523677\n",
      " 0.70194986 0.71866295 0.73537604 0.75208914 0.76880223 0.78551532\n",
      " 0.80222841 0.8189415  0.8356546  0.85236769 0.86908078 0.88579387\n",
      " 0.90250696 0.91922006 0.93593315 0.95264624 0.96935933 0.98607242\n",
      " 1.00278552 1.01949861 1.0362117  1.05292479 1.06963788 1.08635097\n",
      " 1.10306407 1.11977716 1.13649025 1.15320334 1.16991643 1.18662953\n",
      " 1.20334262 1.22005571 1.2367688  1.25348189 1.27019499 1.28690808\n",
      " 1.30362117 1.32033426 1.33704735 1.35376045 1.37047354 1.38718663\n",
      " 1.40389972 1.42061281 1.43732591 1.454039   1.47075209 1.48746518\n",
      " 1.50417827 1.52089136 1.53760446 1.55431755 1.57103064 1.58774373\n",
      " 1.60445682 1.62116992 1.63788301 1.6545961  1.67130919 1.68802228\n",
      " 1.70473538 1.72144847 1.73816156 1.75487465 1.77158774 1.78830084\n",
      " 1.80501393 1.82172702 1.83844011 1.8551532  1.8718663  1.88857939\n",
      " 1.90529248 1.92200557 1.93871866 1.95543175 1.97214485 1.98885794\n",
      " 2.00557103 2.02228412 2.03899721 2.05571031 2.0724234  2.08913649\n",
      " 2.10584958 2.12256267 2.13927577 2.15598886 2.17270195 2.18941504\n",
      " 2.20612813 2.22284123 2.23955432 2.25626741 2.2729805  2.28969359\n",
      " 2.30640669 2.32311978 2.33983287 2.35654596 2.37325905 2.38997214\n",
      " 2.40668524 2.42339833 2.44011142 2.45682451 2.4735376  2.4902507\n",
      " 2.50696379 2.52367688 2.54038997 2.55710306 2.57381616 2.59052925\n",
      " 2.60724234 2.62395543 2.64066852 2.65738162 2.67409471 2.6908078\n",
      " 2.70752089 2.72423398 2.74094708 2.75766017 2.77437326 2.79108635\n",
      " 2.80779944 2.82451253 2.84122563 2.85793872 2.87465181 2.8913649\n",
      " 2.90807799 2.92479109 2.94150418 2.95821727 2.97493036 2.99164345\n",
      " 3.00835655 3.02506964 3.04178273 3.05849582 3.07520891 3.09192201\n",
      " 3.1086351  3.12534819 3.14206128 3.15877437 3.17548747 3.19220056\n",
      " 3.20891365 3.22562674 3.24233983 3.25905292 3.27576602 3.29247911\n",
      " 3.3091922  3.32590529 3.34261838 3.35933148 3.37604457 3.39275766\n",
      " 3.40947075 3.42618384 3.44289694 3.45961003 3.47632312 3.49303621\n",
      " 3.5097493  3.5264624  3.54317549 3.55988858 3.57660167 3.59331476\n",
      " 3.61002786 3.62674095 3.64345404 3.66016713 3.67688022 3.69359331\n",
      " 3.71030641 3.7270195  3.74373259 3.76044568 3.77715877 3.79387187\n",
      " 3.81058496 3.82729805 3.84401114 3.86072423 3.87743733 3.89415042\n",
      " 3.91086351 3.9275766  3.94428969 3.96100279 3.97771588 3.99442897\n",
      " 4.01114206 4.02785515 4.04456825 4.06128134 4.07799443 4.09470752\n",
      " 4.11142061 4.1281337  4.1448468  4.16155989 4.17827298 4.19498607\n",
      " 4.21169916 4.22841226 4.24512535 4.26183844 4.27855153 4.29526462\n",
      " 4.31197772 4.32869081 4.3454039  4.36211699 4.37883008 4.39554318\n",
      " 4.41225627 4.42896936 4.44568245 4.46239554 4.47910864 4.49582173\n",
      " 4.51253482 4.52924791 4.545961   4.56267409 4.57938719 4.59610028\n",
      " 4.61281337 4.62952646 4.64623955 4.66295265 4.67966574 4.69637883\n",
      " 4.71309192 4.72980501 4.74651811 4.7632312  4.77994429 4.79665738\n",
      " 4.81337047 4.83008357 4.84679666 4.86350975 4.88022284 4.89693593\n",
      " 4.91364903 4.93036212 4.94707521 4.9637883  4.98050139 4.99721448\n",
      " 5.01392758 5.03064067 5.04735376 5.06406685 5.08077994 5.09749304\n",
      " 5.11420613 5.13091922 5.14763231 5.1643454  5.1810585  5.19777159\n",
      " 5.21448468 5.23119777 5.24791086 5.26462396 5.28133705 5.29805014\n",
      " 5.31476323 5.33147632 5.34818942 5.36490251 5.3816156  5.39832869\n",
      " 5.41504178 5.43175487 5.44846797 5.46518106 5.48189415 5.49860724\n",
      " 5.51532033 5.53203343 5.54874652 5.56545961 5.5821727  5.59888579\n",
      " 5.61559889 5.63231198 5.64902507 5.66573816 5.68245125 5.69916435\n",
      " 5.71587744 5.73259053 5.74930362 5.76601671 5.78272981 5.7994429\n",
      " 5.81615599 5.83286908 5.84958217 5.86629526 5.88300836 5.89972145\n",
      " 5.91643454 5.93314763 5.94986072 5.96657382 5.98328691 6.        ]\n"
     ]
    }
   ],
   "source": [
    "print(x1)"
   ]
  },
  {
   "cell_type": "code",
   "execution_count": 53,
   "metadata": {},
   "outputs": [
    {
     "data": {
      "image/png": "[encoded data removed]",
      "text/plain": [
       "<Figure size 432x288 with 1 Axes>"
      ]
     },
     "metadata": {
      "needs_background": "light"
     },
     "output_type": "display_data"
    }
   ],
   "source": [
    "# using Numpy Sinus function\n",
    "y = np.sin(x1)\n",
    "y1 = np.sin(x1+120)\n",
    "plt.plot(y,'r');\n",
    "plt.plot(y1,'b');"
   ]
  },
  {
   "cell_type": "code",
   "execution_count": null,
   "metadata": {},
   "outputs": [],
   "source": []
  },
  {
   "cell_type": "markdown",
   "metadata": {},
   "source": [
    "### Numpy Reshape function\n",
    "put the arry/ list in a two demensional way"
   ]
  },
  {
   "cell_type": "code",
   "execution_count": 55,
   "metadata": {},
   "outputs": [],
   "source": [
    "a = np.arange(15)"
   ]
  },
  {
   "cell_type": "code",
   "execution_count": 56,
   "metadata": {},
   "outputs": [
    {
     "data": {
      "text/plain": [
       "array([ 0,  1,  2,  3,  4,  5,  6,  7,  8,  9, 10, 11, 12, 13, 14])"
      ]
     },
     "execution_count": 56,
     "metadata": {},
     "output_type": "execute_result"
    }
   ],
   "source": [
    "a"
   ]
  },
  {
   "cell_type": "code",
   "execution_count": 57,
   "metadata": {},
   "outputs": [],
   "source": [
    "a = np.arange(15).reshape(3,5) \n",
    "# reshapes the arange array/list in a two dimensional list with 3 rows and 5 columns "
   ]
  },
  {
   "cell_type": "code",
   "execution_count": 58,
   "metadata": {},
   "outputs": [
    {
     "data": {
      "text/plain": [
       "array([[ 0,  1,  2,  3,  4],\n",
       "       [ 5,  6,  7,  8,  9],\n",
       "       [10, 11, 12, 13, 14]])"
      ]
     },
     "execution_count": 58,
     "metadata": {},
     "output_type": "execute_result"
    }
   ],
   "source": [
    "a"
   ]
  },
  {
   "cell_type": "code",
   "execution_count": 61,
   "metadata": {},
   "outputs": [
    {
     "data": {
      "text/plain": [
       "array([ 0,  1,  2,  3,  4,  5,  6,  7,  8,  9, 10, 11, 12, 13, 14])"
      ]
     },
     "execution_count": 61,
     "metadata": {},
     "output_type": "execute_result"
    }
   ],
   "source": [
    "# some Sci Kit learn function takes only two dimensional arrays but if we have only one dimensional array we have to covert this\n",
    "# into a two dimensional array\n",
    "a = np.arange(15)\n",
    "a"
   ]
  },
  {
   "cell_type": "code",
   "execution_count": 62,
   "metadata": {},
   "outputs": [
    {
     "data": {
      "text/plain": [
       "array([[ 0],\n",
       "       [ 1],\n",
       "       [ 2],\n",
       "       [ 3],\n",
       "       [ 4],\n",
       "       [ 5],\n",
       "       [ 6],\n",
       "       [ 7],\n",
       "       [ 8],\n",
       "       [ 9],\n",
       "       [10],\n",
       "       [11],\n",
       "       [12],\n",
       "       [13],\n",
       "       [14]])"
      ]
     },
     "execution_count": 62,
     "metadata": {},
     "output_type": "execute_result"
    }
   ],
   "source": [
    "# conversion into two dimensioanl array\n",
    "a.reshape(-1,1)"
   ]
  },
  {
   "cell_type": "code",
   "execution_count": 66,
   "metadata": {},
   "outputs": [
    {
     "data": {
      "text/plain": [
       "array([0., 0., 0.])"
      ]
     },
     "execution_count": 66,
     "metadata": {},
     "output_type": "execute_result"
    }
   ],
   "source": [
    "# Creating a Zero array\n",
    "c = np.zeros(3)\n",
    "c"
   ]
  },
  {
   "cell_type": "code",
   "execution_count": 67,
   "metadata": {},
   "outputs": [
    {
     "data": {
      "text/plain": [
       "array([[0., 0., 0.],\n",
       "       [0., 0., 0.],\n",
       "       [0., 0., 0.]])"
      ]
     },
     "execution_count": 67,
     "metadata": {},
     "output_type": "execute_result"
    }
   ],
   "source": [
    "# Creating a Zero array two dimensional\n",
    "c = np.zeros((3,3))\n",
    "c"
   ]
  },
  {
   "cell_type": "code",
   "execution_count": 68,
   "metadata": {},
   "outputs": [
    {
     "data": {
      "text/plain": [
       "array([[1., 1., 1., 1.],\n",
       "       [1., 1., 1., 1.],\n",
       "       [1., 1., 1., 1.]])"
      ]
     },
     "execution_count": 68,
     "metadata": {},
     "output_type": "execute_result"
    }
   ],
   "source": [
    "# Creating a One array two dimensional\n",
    "np.ones((3,4))"
   ]
  },
  {
   "cell_type": "code",
   "execution_count": 70,
   "metadata": {},
   "outputs": [
    {
     "data": {
      "text/plain": [
       "array([[1., 0., 0., 0.],\n",
       "       [0., 1., 0., 0.],\n",
       "       [0., 0., 1., 0.],\n",
       "       [0., 0., 0., 1.]])"
      ]
     },
     "execution_count": 70,
     "metadata": {},
     "output_type": "execute_result"
    }
   ],
   "source": [
    "# the ones go diagonal\n",
    "np.eye(4)"
   ]
  },
  {
   "cell_type": "code",
   "execution_count": 72,
   "metadata": {},
   "outputs": [
    {
     "data": {
      "text/plain": [
       "array([[1., 0., 0., 0.],\n",
       "       [0., 1., 0., 0.],\n",
       "       [0., 0., 1., 0.],\n",
       "       [0., 0., 0., 1.]])"
      ]
     },
     "execution_count": 72,
     "metadata": {},
     "output_type": "execute_result"
    }
   ],
   "source": [
    "# change from floating point number into an integer\n",
    "i = np.eye(4)\n",
    "i"
   ]
  },
  {
   "cell_type": "code",
   "execution_count": 76,
   "metadata": {},
   "outputs": [
    {
     "data": {
      "text/plain": [
       "array([[1, 0, 0, 0],\n",
       "       [0, 1, 0, 0],\n",
       "       [0, 0, 1, 0],\n",
       "       [0, 0, 0, 1]], dtype=int64)"
      ]
     },
     "execution_count": 76,
     "metadata": {},
     "output_type": "execute_result"
    }
   ],
   "source": [
    "# convert to Integer\n",
    "I = i.astype('int64')\n",
    "I"
   ]
  },
  {
   "cell_type": "code",
   "execution_count": 78,
   "metadata": {},
   "outputs": [
    {
     "data": {
      "text/plain": [
       "array([0, 0, 1, 0], dtype=int64)"
      ]
     },
     "execution_count": 78,
     "metadata": {},
     "output_type": "execute_result"
    }
   ],
   "source": [
    "# Slicing\n",
    "# get a certain row row 2\n",
    "I[2]"
   ]
  },
  {
   "cell_type": "code",
   "execution_count": 83,
   "metadata": {},
   "outputs": [
    {
     "data": {
      "text/plain": [
       "array([0, 1, 0, 0], dtype=int64)"
      ]
     },
     "execution_count": 83,
     "metadata": {},
     "output_type": "execute_result"
    }
   ],
   "source": [
    "# Slicing\n",
    "# get a certain column column 1\n",
    "I[:,1]"
   ]
  },
  {
   "cell_type": "code",
   "execution_count": 86,
   "metadata": {},
   "outputs": [
    {
     "data": {
      "text/plain": [
       "1"
      ]
     },
     "execution_count": 86,
     "metadata": {},
     "output_type": "execute_result"
    }
   ],
   "source": [
    "# Slicing\n",
    "# get a certain cell (second row and second column)\n",
    "value = I[2,2]\n",
    "value"
   ]
  },
  {
   "cell_type": "code",
   "execution_count": null,
   "metadata": {},
   "outputs": [],
   "source": []
  },
  {
   "cell_type": "markdown",
   "metadata": {},
   "source": [
    "***\n",
    "## End"
   ]
  }
 ],
 "metadata": {
  "kernelspec": {
   "display_name": "Python 3",
   "language": "python",
   "name": "python3"
  },
  "language_info": {
   "codemirror_mode": {
    "name": "ipython",
    "version": 3
   },
   "file_extension": ".py",
   "mimetype": "text/x-python",
   "name": "python",
   "nbconvert_exporter": "python",
   "pygments_lexer": "ipython3",
   "version": "3.8.3"
  }
 },
 "nbformat": 4,
 "nbformat_minor": 4
}
